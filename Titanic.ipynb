{
  "nbformat": 4,
  "nbformat_minor": 0,
  "metadata": {
    "colab": {
      "name": "Titanic.ipynb",
      "provenance": [],
      "collapsed_sections": []
    },
    "kernelspec": {
      "name": "python3",
      "display_name": "Python 3"
    },
    "accelerator": "TPU"
  },
  "cells": [
    {
      "cell_type": "code",
      "metadata": {
        "id": "B_8FaSe13MOy",
        "colab_type": "code",
        "colab": {
          "base_uri": "https://localhost:8080/",
          "height": 204
        },
        "outputId": "e9dd8718-24be-4c08-e0f6-89f9c9297ac2"
      },
      "source": [
        "!pip install kaggle\n"
      ],
      "execution_count": 96,
      "outputs": [
        {
          "output_type": "stream",
          "text": [
            "Requirement already satisfied: kaggle in /usr/local/lib/python3.6/dist-packages (1.5.6)\n",
            "Requirement already satisfied: python-slugify in /usr/local/lib/python3.6/dist-packages (from kaggle) (4.0.1)\n",
            "Requirement already satisfied: tqdm in /usr/local/lib/python3.6/dist-packages (from kaggle) (4.41.1)\n",
            "Requirement already satisfied: certifi in /usr/local/lib/python3.6/dist-packages (from kaggle) (2020.6.20)\n",
            "Requirement already satisfied: six>=1.10 in /usr/local/lib/python3.6/dist-packages (from kaggle) (1.15.0)\n",
            "Requirement already satisfied: urllib3<1.25,>=1.21.1 in /usr/local/lib/python3.6/dist-packages (from kaggle) (1.24.3)\n",
            "Requirement already satisfied: python-dateutil in /usr/local/lib/python3.6/dist-packages (from kaggle) (2.8.1)\n",
            "Requirement already satisfied: requests in /usr/local/lib/python3.6/dist-packages (from kaggle) (2.23.0)\n",
            "Requirement already satisfied: text-unidecode>=1.3 in /usr/local/lib/python3.6/dist-packages (from python-slugify->kaggle) (1.3)\n",
            "Requirement already satisfied: chardet<4,>=3.0.2 in /usr/local/lib/python3.6/dist-packages (from requests->kaggle) (3.0.4)\n",
            "Requirement already satisfied: idna<3,>=2.5 in /usr/local/lib/python3.6/dist-packages (from requests->kaggle) (2.10)\n"
          ],
          "name": "stdout"
        }
      ]
    },
    {
      "cell_type": "code",
      "metadata": {
        "id": "E0As8h5B76oA",
        "colab_type": "code",
        "colab": {
          "base_uri": "https://localhost:8080/",
          "height": 34
        },
        "outputId": "34f0f294-dab2-4ea7-d6ad-086949146fbf"
      },
      "source": [
        "!mkdir .kaggle"
      ],
      "execution_count": 97,
      "outputs": [
        {
          "output_type": "stream",
          "text": [
            "mkdir: cannot create directory ‘.kaggle’: File exists\n"
          ],
          "name": "stdout"
        }
      ]
    },
    {
      "cell_type": "code",
      "metadata": {
        "id": "M8P7j7Xh3ZTi",
        "colab_type": "code",
        "colab": {}
      },
      "source": [
        "import json\n",
        "token = {\"username\":\"pranshulgoyal\",\"key\":\"4b6c314aafb507243d2d5305817487ee\"}\n",
        "with open('/content/.kaggle/kaggle.json', 'w') as file:\n",
        "    json.dump(token, file)"
      ],
      "execution_count": 98,
      "outputs": []
    },
    {
      "cell_type": "code",
      "metadata": {
        "id": "gLvOUyWS3wXC",
        "colab_type": "code",
        "colab": {}
      },
      "source": [
        "!cp /content/.kaggle/kaggle.json ~/.kaggle/kaggle.json\n"
      ],
      "execution_count": 99,
      "outputs": []
    },
    {
      "cell_type": "code",
      "metadata": {
        "id": "VMkpKPJd4Nh6",
        "colab_type": "code",
        "colab": {
          "base_uri": "https://localhost:8080/",
          "height": 34
        },
        "outputId": "3cc7a5da-1c64-4c6c-be51-50ca0d7b4945"
      },
      "source": [
        "!kaggle config set -n path -v{/content}\n",
        "!chmod 600 /root/.kaggle/kaggle.json"
      ],
      "execution_count": 100,
      "outputs": [
        {
          "output_type": "stream",
          "text": [
            "- path is now set to: {/content}\n"
          ],
          "name": "stdout"
        }
      ]
    },
    {
      "cell_type": "code",
      "metadata": {
        "id": "-YO0Orvw4Qlq",
        "colab_type": "code",
        "colab": {
          "base_uri": "https://localhost:8080/",
          "height": 85
        },
        "outputId": "b8b68bf7-0408-47df-85e4-59d8e9fb2b25"
      },
      "source": [
        "!kaggle competitions download -c titanic"
      ],
      "execution_count": 101,
      "outputs": [
        {
          "output_type": "stream",
          "text": [
            "Warning: Looks like you're using an outdated API Version, please consider updating (server 1.5.6 / client 1.5.4)\n",
            "train.csv: Skipping, found more recently modified local copy (use --force to force download)\n",
            "test.csv: Skipping, found more recently modified local copy (use --force to force download)\n",
            "gender_submission.csv: Skipping, found more recently modified local copy (use --force to force download)\n"
          ],
          "name": "stdout"
        }
      ]
    },
    {
      "cell_type": "code",
      "metadata": {
        "id": "wVe8FmlM4alF",
        "colab_type": "code",
        "colab": {}
      },
      "source": [
        "import pandas as pd\n",
        "import tensorflow as tf\n",
        "import matplotlib.pyplot as plt\n",
        "import numpy as np\n",
        "from sklearn.preprocessing import OneHotEncoder"
      ],
      "execution_count": 102,
      "outputs": []
    },
    {
      "cell_type": "code",
      "metadata": {
        "id": "oc5DcsxA4hHc",
        "colab_type": "code",
        "colab": {}
      },
      "source": [
        "train_data  = pd.read_csv(\"/content/{/content}/competitions/titanic/train.csv\")\n",
        "test_data  = pd.read_csv(\"/content/{/content}/competitions/titanic/test.csv\")"
      ],
      "execution_count": 117,
      "outputs": []
    },
    {
      "cell_type": "code",
      "metadata": {
        "id": "WqP9JE0L490x",
        "colab_type": "code",
        "colab": {}
      },
      "source": [
        "train_data = train_data.drop(['PassengerId','Name','Ticket','Embarked','Cabin'],axis=1)\n",
        "test_data = test_data.drop(['PassengerId','Name','Ticket','Embarked','Cabin'],axis = 1)\n"
      ],
      "execution_count": 118,
      "outputs": []
    },
    {
      "cell_type": "code",
      "metadata": {
        "id": "ztHWig4Z6Cas",
        "colab_type": "code",
        "colab": {
          "base_uri": "https://localhost:8080/",
          "height": 357
        },
        "outputId": "4325e2d0-2f07-4e29-fbe7-6064adcb84fa"
      },
      "source": [
        "train_data[\"Male\"] = train_data[\"Sex\"]\n",
        "train_data[\"Female\"] = train_data[\"Sex\"]\n",
        "\n",
        "for i in range(0,train_data.shape[0]):\n",
        "  if(train_data[\"Sex\"][i] == \"male\"):\n",
        "    train_data[\"Male\"][i] = 1 \n",
        "    train_data[\"Female\"][i] = 0 \n",
        "  else:\n",
        "    train_data[\"Male\"][i] = 0 \n",
        "    train_data[\"Female\"][i] = 1 \n",
        "train_data = train_data.drop(columns=['Sex'])\n"
      ],
      "execution_count": 119,
      "outputs": [
        {
          "output_type": "stream",
          "text": [
            "/usr/local/lib/python3.6/dist-packages/ipykernel_launcher.py:6: SettingWithCopyWarning: \n",
            "A value is trying to be set on a copy of a slice from a DataFrame\n",
            "\n",
            "See the caveats in the documentation: https://pandas.pydata.org/pandas-docs/stable/user_guide/indexing.html#returning-a-view-versus-a-copy\n",
            "  \n",
            "/usr/local/lib/python3.6/dist-packages/ipykernel_launcher.py:7: SettingWithCopyWarning: \n",
            "A value is trying to be set on a copy of a slice from a DataFrame\n",
            "\n",
            "See the caveats in the documentation: https://pandas.pydata.org/pandas-docs/stable/user_guide/indexing.html#returning-a-view-versus-a-copy\n",
            "  import sys\n",
            "/usr/local/lib/python3.6/dist-packages/ipykernel_launcher.py:9: SettingWithCopyWarning: \n",
            "A value is trying to be set on a copy of a slice from a DataFrame\n",
            "\n",
            "See the caveats in the documentation: https://pandas.pydata.org/pandas-docs/stable/user_guide/indexing.html#returning-a-view-versus-a-copy\n",
            "  if __name__ == '__main__':\n",
            "/usr/local/lib/python3.6/dist-packages/ipykernel_launcher.py:10: SettingWithCopyWarning: \n",
            "A value is trying to be set on a copy of a slice from a DataFrame\n",
            "\n",
            "See the caveats in the documentation: https://pandas.pydata.org/pandas-docs/stable/user_guide/indexing.html#returning-a-view-versus-a-copy\n",
            "  # Remove the CWD from sys.path while we load stuff.\n"
          ],
          "name": "stderr"
        }
      ]
    },
    {
      "cell_type": "code",
      "metadata": {
        "id": "TZXXdE4x7eia",
        "colab_type": "code",
        "colab": {}
      },
      "source": [
        "ytrain = train_data[\"Survived\"]"
      ],
      "execution_count": 120,
      "outputs": []
    },
    {
      "cell_type": "code",
      "metadata": {
        "id": "JfPU0qZcpN9e",
        "colab_type": "code",
        "colab": {}
      },
      "source": [
        "xtrain = train_data.drop([\"Survived\"],axis  =1)\n",
        "xtrain = xtrain.to_numpy()\n",
        "ytrain = ytrain.to_numpy()\n",
        "xtrain = xtrain.astype('float64')\n",
        "ytrain = ytrain.astype('float64')\n",
        "xtrain1 = xtrain\n",
        "xtrain[np.isnan(xtrain1).any(axis=1)] = 0\n",
        "assert not np.any(np.isnan(xtrain))\n"
      ],
      "execution_count": 121,
      "outputs": []
    },
    {
      "cell_type": "code",
      "metadata": {
        "id": "PKlrphnSsSwS",
        "colab_type": "code",
        "colab": {
          "base_uri": "https://localhost:8080/",
          "height": 34
        },
        "outputId": "2a3728a4-9315-48da-ead4-8aae673f618e"
      },
      "source": [
        "xtraina = xtrain[:700]\n",
        "xtrainb = xtrain[700:]\n",
        "ytraina = ytrain[:700]\n",
        "ytrainb = ytrain[700:]\n",
        "print(xtrainb.shape)"
      ],
      "execution_count": 122,
      "outputs": [
        {
          "output_type": "stream",
          "text": [
            "(191, 7)\n"
          ],
          "name": "stdout"
        }
      ]
    },
    {
      "cell_type": "code",
      "metadata": {
        "id": "URXPKlxWq8oM",
        "colab_type": "code",
        "colab": {}
      },
      "source": [
        "def create_model(learning_rate):\n",
        "  model = tf.keras.models.Sequential()\n",
        "  model.add(tf.keras.layers.Dense(units= 5 ,input_shape=(7,),activation=\"relu\"))\n",
        "  model.add(tf.keras.layers.Dense(units=7,activation=\"relu\"))\n",
        "  model.add(tf.keras.layers.BatchNormalization())\n",
        "  model.add(tf.keras.layers.Dense(units=7,activation=\"relu\"))\n",
        "  model.add(tf.keras.layers.Dense(units=7,activation=\"relu\"))\n",
        "  model.add(tf.keras.layers.Dense(units=7,activation=\"relu\"))\n",
        "  model.add(tf.keras.layers.Dense(units=7,activation=\"relu\"))\n",
        "  model.add(tf.keras.layers.Dense(units=7,activation=\"relu\"))\n",
        "  model.add(tf.keras.layers.Dense(units=5,activation=\"relu\"))\n",
        "  model.add(tf.keras.layers.Dense(units=1,activation=\"sigmoid\"))\n",
        "  model.compile(optimizer=tf.keras.optimizers.RMSprop(lr=learning_rate),\n",
        "                loss=\"mean_squared_error\",\n",
        "                metrics=[\"accuracy\"])\n",
        "\n",
        "  return model  \n"
      ],
      "execution_count": 123,
      "outputs": []
    },
    {
      "cell_type": "code",
      "metadata": {
        "id": "9Gbr3NtassJe",
        "colab_type": "code",
        "colab": {}
      },
      "source": [
        ""
      ],
      "execution_count": 115,
      "outputs": []
    },
    {
      "cell_type": "code",
      "metadata": {
        "id": "GTZAqcQFs4i4",
        "colab_type": "code",
        "colab": {
          "base_uri": "https://localhost:8080/",
          "height": 34
        },
        "outputId": "e96af970-5555-4ead-dbbb-b07825fb37e5"
      },
      "source": [
        "def train_model(model,epochs,batch_size):\n",
        "    history = model.fit(x = xtrain,y = ytrain,batch_size = batch_size,epochs=epochs, shuffle=True,validation_split = 0.2)\n",
        "    epochs = history.epoch\n",
        "    hist = pd.DataFrame(history.history)\n",
        "    rmse = hist[\"accuracy\"]\n",
        "    return epochs, rmse  \n",
        "\n",
        "def plot_the_loss_curve(epochs, rmse):\n",
        "  \"\"\"Plot a curve of loss vs. epoch.\"\"\"\n",
        "\n",
        "  plt.figure()\n",
        "  plt.xlabel(\"Epoch\")\n",
        "  plt.ylabel(\"Root Mean Squared Error\")\n",
        "\n",
        "  plt.plot(epochs, rmse, label=\"Loss\")\n",
        "  plt.legend()\n",
        "  plt.ylim([rmse.min()*0.94, rmse.max()* 1.05])\n",
        "  plt.show()  \n",
        "\n",
        "print(\"Defined the create_model, train_model, and plot_the_loss_curve functions.\")"
      ],
      "execution_count": 124,
      "outputs": [
        {
          "output_type": "stream",
          "text": [
            "Defined the create_model, train_model, and plot_the_loss_curve functions.\n"
          ],
          "name": "stdout"
        }
      ]
    },
    {
      "cell_type": "code",
      "metadata": {
        "id": "0_rUxxDRxFPh",
        "colab_type": "code",
        "colab": {}
      },
      "source": [
        ""
      ],
      "execution_count": null,
      "outputs": []
    },
    {
      "cell_type": "code",
      "metadata": {
        "id": "DU06gtLDs9Na",
        "colab_type": "code",
        "colab": {
          "base_uri": "https://localhost:8080/",
          "height": 1000
        },
        "outputId": "2ff1eecd-ebbc-4fcf-e06b-b9f707c8c512"
      },
      "source": [
        "learning_rate = 0.0009\n",
        "epochs = 200\n",
        "batch_size = 32\n",
        "\n",
        "my_model = create_model(learning_rate)\n",
        "epochs, rmse = train_model(my_model,epochs,batch_size)\n"
      ],
      "execution_count": 128,
      "outputs": [
        {
          "output_type": "stream",
          "text": [
            "Epoch 1/200\n",
            "23/23 [==============================] - 0s 8ms/step - loss: 0.2442 - accuracy: 0.6096 - val_loss: 0.2479 - val_accuracy: 0.6425\n",
            "Epoch 2/200\n",
            "23/23 [==============================] - 0s 2ms/step - loss: 0.2365 - accuracy: 0.6096 - val_loss: 0.2388 - val_accuracy: 0.6425\n",
            "Epoch 3/200\n",
            "23/23 [==============================] - 0s 2ms/step - loss: 0.2341 - accuracy: 0.6096 - val_loss: 0.2311 - val_accuracy: 0.6425\n",
            "Epoch 4/200\n",
            "23/23 [==============================] - 0s 2ms/step - loss: 0.2308 - accuracy: 0.6096 - val_loss: 0.2232 - val_accuracy: 0.6425\n",
            "Epoch 5/200\n",
            "23/23 [==============================] - 0s 2ms/step - loss: 0.2313 - accuracy: 0.6096 - val_loss: 0.2197 - val_accuracy: 0.6425\n",
            "Epoch 6/200\n",
            "23/23 [==============================] - 0s 2ms/step - loss: 0.2290 - accuracy: 0.6096 - val_loss: 0.2129 - val_accuracy: 0.6425\n",
            "Epoch 7/200\n",
            "23/23 [==============================] - 0s 2ms/step - loss: 0.2289 - accuracy: 0.6096 - val_loss: 0.2096 - val_accuracy: 0.6425\n",
            "Epoch 8/200\n",
            "23/23 [==============================] - 0s 2ms/step - loss: 0.2260 - accuracy: 0.6096 - val_loss: 0.2081 - val_accuracy: 0.6425\n",
            "Epoch 9/200\n",
            "23/23 [==============================] - 0s 2ms/step - loss: 0.2264 - accuracy: 0.6096 - val_loss: 0.2055 - val_accuracy: 0.6425\n",
            "Epoch 10/200\n",
            "23/23 [==============================] - 0s 2ms/step - loss: 0.2256 - accuracy: 0.6110 - val_loss: 0.2063 - val_accuracy: 0.6983\n",
            "Epoch 11/200\n",
            "23/23 [==============================] - 0s 2ms/step - loss: 0.2257 - accuracy: 0.6559 - val_loss: 0.2034 - val_accuracy: 0.7039\n",
            "Epoch 12/200\n",
            "23/23 [==============================] - 0s 2ms/step - loss: 0.2211 - accuracy: 0.6587 - val_loss: 0.2024 - val_accuracy: 0.7095\n",
            "Epoch 13/200\n",
            "23/23 [==============================] - 0s 2ms/step - loss: 0.2218 - accuracy: 0.6643 - val_loss: 0.2013 - val_accuracy: 0.6983\n",
            "Epoch 14/200\n",
            "23/23 [==============================] - 0s 2ms/step - loss: 0.2235 - accuracy: 0.6376 - val_loss: 0.2021 - val_accuracy: 0.7095\n",
            "Epoch 15/200\n",
            "23/23 [==============================] - 0s 2ms/step - loss: 0.2224 - accuracy: 0.6475 - val_loss: 0.2012 - val_accuracy: 0.6927\n",
            "Epoch 16/200\n",
            "23/23 [==============================] - 0s 2ms/step - loss: 0.2222 - accuracy: 0.6531 - val_loss: 0.2003 - val_accuracy: 0.7039\n",
            "Epoch 17/200\n",
            "23/23 [==============================] - 0s 2ms/step - loss: 0.2190 - accuracy: 0.6629 - val_loss: 0.1990 - val_accuracy: 0.6983\n",
            "Epoch 18/200\n",
            "23/23 [==============================] - 0s 2ms/step - loss: 0.2181 - accuracy: 0.6643 - val_loss: 0.1986 - val_accuracy: 0.6872\n",
            "Epoch 19/200\n",
            "23/23 [==============================] - 0s 2ms/step - loss: 0.2174 - accuracy: 0.6643 - val_loss: 0.1996 - val_accuracy: 0.6704\n",
            "Epoch 20/200\n",
            "23/23 [==============================] - 0s 2ms/step - loss: 0.2153 - accuracy: 0.6685 - val_loss: 0.1963 - val_accuracy: 0.6816\n",
            "Epoch 21/200\n",
            "23/23 [==============================] - 0s 2ms/step - loss: 0.2158 - accuracy: 0.6742 - val_loss: 0.1965 - val_accuracy: 0.6648\n",
            "Epoch 22/200\n",
            "23/23 [==============================] - 0s 2ms/step - loss: 0.2162 - accuracy: 0.6699 - val_loss: 0.1993 - val_accuracy: 0.7207\n",
            "Epoch 23/200\n",
            "23/23 [==============================] - 0s 2ms/step - loss: 0.2131 - accuracy: 0.6770 - val_loss: 0.1993 - val_accuracy: 0.6425\n",
            "Epoch 24/200\n",
            "23/23 [==============================] - 0s 2ms/step - loss: 0.2111 - accuracy: 0.6798 - val_loss: 0.2019 - val_accuracy: 0.6425\n",
            "Epoch 25/200\n",
            "23/23 [==============================] - 0s 2ms/step - loss: 0.2064 - accuracy: 0.6924 - val_loss: 0.2031 - val_accuracy: 0.6425\n",
            "Epoch 26/200\n",
            "23/23 [==============================] - 0s 2ms/step - loss: 0.2048 - accuracy: 0.7022 - val_loss: 0.2074 - val_accuracy: 0.6425\n",
            "Epoch 27/200\n",
            "23/23 [==============================] - 0s 2ms/step - loss: 0.2018 - accuracy: 0.6938 - val_loss: 0.2173 - val_accuracy: 0.6425\n",
            "Epoch 28/200\n",
            "23/23 [==============================] - 0s 2ms/step - loss: 0.1995 - accuracy: 0.7149 - val_loss: 0.2172 - val_accuracy: 0.6425\n",
            "Epoch 29/200\n",
            "23/23 [==============================] - 0s 2ms/step - loss: 0.1950 - accuracy: 0.7219 - val_loss: 0.2187 - val_accuracy: 0.6369\n",
            "Epoch 30/200\n",
            "23/23 [==============================] - 0s 2ms/step - loss: 0.1964 - accuracy: 0.7163 - val_loss: 0.2199 - val_accuracy: 0.6369\n",
            "Epoch 31/200\n",
            "23/23 [==============================] - 0s 2ms/step - loss: 0.1965 - accuracy: 0.7247 - val_loss: 0.2196 - val_accuracy: 0.6425\n",
            "Epoch 32/200\n",
            "23/23 [==============================] - 0s 2ms/step - loss: 0.1935 - accuracy: 0.7275 - val_loss: 0.2214 - val_accuracy: 0.6369\n",
            "Epoch 33/200\n",
            "23/23 [==============================] - 0s 2ms/step - loss: 0.1935 - accuracy: 0.7247 - val_loss: 0.2138 - val_accuracy: 0.6480\n",
            "Epoch 34/200\n",
            "23/23 [==============================] - 0s 2ms/step - loss: 0.1960 - accuracy: 0.7205 - val_loss: 0.1879 - val_accuracy: 0.7263\n",
            "Epoch 35/200\n",
            "23/23 [==============================] - 0s 2ms/step - loss: 0.1899 - accuracy: 0.7346 - val_loss: 0.1958 - val_accuracy: 0.6816\n",
            "Epoch 36/200\n",
            "23/23 [==============================] - 0s 2ms/step - loss: 0.1920 - accuracy: 0.7219 - val_loss: 0.2000 - val_accuracy: 0.6592\n",
            "Epoch 37/200\n",
            "23/23 [==============================] - 0s 2ms/step - loss: 0.1881 - accuracy: 0.7416 - val_loss: 0.1749 - val_accuracy: 0.7207\n",
            "Epoch 38/200\n",
            "23/23 [==============================] - 0s 2ms/step - loss: 0.1868 - accuracy: 0.7430 - val_loss: 0.1785 - val_accuracy: 0.7151\n",
            "Epoch 39/200\n",
            "23/23 [==============================] - 0s 2ms/step - loss: 0.1882 - accuracy: 0.7346 - val_loss: 0.1842 - val_accuracy: 0.6872\n",
            "Epoch 40/200\n",
            "23/23 [==============================] - 0s 2ms/step - loss: 0.1862 - accuracy: 0.7430 - val_loss: 0.1909 - val_accuracy: 0.7151\n",
            "Epoch 41/200\n",
            "23/23 [==============================] - 0s 2ms/step - loss: 0.1917 - accuracy: 0.7289 - val_loss: 0.1920 - val_accuracy: 0.7709\n",
            "Epoch 42/200\n",
            "23/23 [==============================] - 0s 2ms/step - loss: 0.1879 - accuracy: 0.7402 - val_loss: 0.1526 - val_accuracy: 0.8212\n",
            "Epoch 43/200\n",
            "23/23 [==============================] - 0s 2ms/step - loss: 0.1855 - accuracy: 0.7360 - val_loss: 0.1539 - val_accuracy: 0.8156\n",
            "Epoch 44/200\n",
            "23/23 [==============================] - 0s 2ms/step - loss: 0.1835 - accuracy: 0.7388 - val_loss: 0.1451 - val_accuracy: 0.8324\n",
            "Epoch 45/200\n",
            "23/23 [==============================] - 0s 2ms/step - loss: 0.1840 - accuracy: 0.7472 - val_loss: 0.1548 - val_accuracy: 0.8268\n",
            "Epoch 46/200\n",
            "23/23 [==============================] - 0s 2ms/step - loss: 0.1845 - accuracy: 0.7430 - val_loss: 0.1422 - val_accuracy: 0.8268\n",
            "Epoch 47/200\n",
            "23/23 [==============================] - 0s 2ms/step - loss: 0.1870 - accuracy: 0.7360 - val_loss: 0.1465 - val_accuracy: 0.8268\n",
            "Epoch 48/200\n",
            "23/23 [==============================] - 0s 2ms/step - loss: 0.1816 - accuracy: 0.7514 - val_loss: 0.1586 - val_accuracy: 0.8156\n",
            "Epoch 49/200\n",
            "23/23 [==============================] - 0s 2ms/step - loss: 0.1838 - accuracy: 0.7486 - val_loss: 0.1427 - val_accuracy: 0.8212\n",
            "Epoch 50/200\n",
            "23/23 [==============================] - 0s 2ms/step - loss: 0.1800 - accuracy: 0.7472 - val_loss: 0.1808 - val_accuracy: 0.7821\n",
            "Epoch 51/200\n",
            "23/23 [==============================] - 0s 2ms/step - loss: 0.1830 - accuracy: 0.7500 - val_loss: 0.1561 - val_accuracy: 0.8045\n",
            "Epoch 52/200\n",
            "23/23 [==============================] - 0s 2ms/step - loss: 0.1820 - accuracy: 0.7500 - val_loss: 0.1581 - val_accuracy: 0.7989\n",
            "Epoch 53/200\n",
            "23/23 [==============================] - 0s 2ms/step - loss: 0.1778 - accuracy: 0.7528 - val_loss: 0.1519 - val_accuracy: 0.8156\n",
            "Epoch 54/200\n",
            "23/23 [==============================] - 0s 2ms/step - loss: 0.1811 - accuracy: 0.7556 - val_loss: 0.1467 - val_accuracy: 0.8156\n",
            "Epoch 55/200\n",
            "23/23 [==============================] - 0s 2ms/step - loss: 0.1837 - accuracy: 0.7430 - val_loss: 0.1408 - val_accuracy: 0.8101\n",
            "Epoch 56/200\n",
            "23/23 [==============================] - 0s 2ms/step - loss: 0.1827 - accuracy: 0.7416 - val_loss: 0.1415 - val_accuracy: 0.8156\n",
            "Epoch 57/200\n",
            "23/23 [==============================] - 0s 2ms/step - loss: 0.1794 - accuracy: 0.7528 - val_loss: 0.1446 - val_accuracy: 0.8212\n",
            "Epoch 58/200\n",
            "23/23 [==============================] - 0s 2ms/step - loss: 0.1764 - accuracy: 0.7528 - val_loss: 0.1661 - val_accuracy: 0.7542\n",
            "Epoch 59/200\n",
            "23/23 [==============================] - 0s 2ms/step - loss: 0.1813 - accuracy: 0.7430 - val_loss: 0.1365 - val_accuracy: 0.8156\n",
            "Epoch 60/200\n",
            "23/23 [==============================] - 0s 2ms/step - loss: 0.1800 - accuracy: 0.7472 - val_loss: 0.1430 - val_accuracy: 0.8156\n",
            "Epoch 61/200\n",
            "23/23 [==============================] - 0s 2ms/step - loss: 0.1787 - accuracy: 0.7514 - val_loss: 0.1383 - val_accuracy: 0.8212\n",
            "Epoch 62/200\n",
            "23/23 [==============================] - 0s 2ms/step - loss: 0.1771 - accuracy: 0.7500 - val_loss: 0.1520 - val_accuracy: 0.8101\n",
            "Epoch 63/200\n",
            "23/23 [==============================] - 0s 2ms/step - loss: 0.1781 - accuracy: 0.7542 - val_loss: 0.1371 - val_accuracy: 0.8101\n",
            "Epoch 64/200\n",
            "23/23 [==============================] - 0s 2ms/step - loss: 0.1792 - accuracy: 0.7430 - val_loss: 0.1495 - val_accuracy: 0.8101\n",
            "Epoch 65/200\n",
            "23/23 [==============================] - 0s 2ms/step - loss: 0.1743 - accuracy: 0.7570 - val_loss: 0.1368 - val_accuracy: 0.8268\n",
            "Epoch 66/200\n",
            "23/23 [==============================] - 0s 2ms/step - loss: 0.1770 - accuracy: 0.7528 - val_loss: 0.1504 - val_accuracy: 0.8101\n",
            "Epoch 67/200\n",
            "23/23 [==============================] - 0s 2ms/step - loss: 0.1759 - accuracy: 0.7556 - val_loss: 0.1425 - val_accuracy: 0.7989\n",
            "Epoch 68/200\n",
            "23/23 [==============================] - 0s 2ms/step - loss: 0.1792 - accuracy: 0.7556 - val_loss: 0.1448 - val_accuracy: 0.8045\n",
            "Epoch 69/200\n",
            "23/23 [==============================] - 0s 2ms/step - loss: 0.1800 - accuracy: 0.7472 - val_loss: 0.1449 - val_accuracy: 0.7933\n",
            "Epoch 70/200\n",
            "23/23 [==============================] - 0s 2ms/step - loss: 0.1771 - accuracy: 0.7584 - val_loss: 0.1398 - val_accuracy: 0.8045\n",
            "Epoch 71/200\n",
            "23/23 [==============================] - 0s 2ms/step - loss: 0.1743 - accuracy: 0.7556 - val_loss: 0.1536 - val_accuracy: 0.7989\n",
            "Epoch 72/200\n",
            "23/23 [==============================] - 0s 2ms/step - loss: 0.1747 - accuracy: 0.7514 - val_loss: 0.1543 - val_accuracy: 0.7933\n",
            "Epoch 73/200\n",
            "23/23 [==============================] - 0s 2ms/step - loss: 0.1740 - accuracy: 0.7626 - val_loss: 0.1773 - val_accuracy: 0.7318\n",
            "Epoch 74/200\n",
            "23/23 [==============================] - 0s 2ms/step - loss: 0.1719 - accuracy: 0.7612 - val_loss: 0.1382 - val_accuracy: 0.8156\n",
            "Epoch 75/200\n",
            "23/23 [==============================] - 0s 2ms/step - loss: 0.1719 - accuracy: 0.7570 - val_loss: 0.1426 - val_accuracy: 0.7989\n",
            "Epoch 76/200\n",
            "23/23 [==============================] - 0s 2ms/step - loss: 0.1726 - accuracy: 0.7598 - val_loss: 0.1444 - val_accuracy: 0.8212\n",
            "Epoch 77/200\n",
            "23/23 [==============================] - 0s 2ms/step - loss: 0.1734 - accuracy: 0.7514 - val_loss: 0.1421 - val_accuracy: 0.8101\n",
            "Epoch 78/200\n",
            "23/23 [==============================] - 0s 2ms/step - loss: 0.1730 - accuracy: 0.7612 - val_loss: 0.1451 - val_accuracy: 0.7933\n",
            "Epoch 79/200\n",
            "23/23 [==============================] - 0s 2ms/step - loss: 0.1714 - accuracy: 0.7626 - val_loss: 0.1459 - val_accuracy: 0.8045\n",
            "Epoch 80/200\n",
            "23/23 [==============================] - 0s 2ms/step - loss: 0.1718 - accuracy: 0.7640 - val_loss: 0.1411 - val_accuracy: 0.8045\n",
            "Epoch 81/200\n",
            "23/23 [==============================] - 0s 2ms/step - loss: 0.1688 - accuracy: 0.7711 - val_loss: 0.1398 - val_accuracy: 0.8101\n",
            "Epoch 82/200\n",
            "23/23 [==============================] - 0s 2ms/step - loss: 0.1679 - accuracy: 0.7753 - val_loss: 0.1910 - val_accuracy: 0.6983\n",
            "Epoch 83/200\n",
            "23/23 [==============================] - 0s 2ms/step - loss: 0.1699 - accuracy: 0.7640 - val_loss: 0.1375 - val_accuracy: 0.8101\n",
            "Epoch 84/200\n",
            "23/23 [==============================] - 0s 2ms/step - loss: 0.1680 - accuracy: 0.7654 - val_loss: 0.1415 - val_accuracy: 0.8101\n",
            "Epoch 85/200\n",
            "23/23 [==============================] - 0s 2ms/step - loss: 0.1690 - accuracy: 0.7612 - val_loss: 0.1404 - val_accuracy: 0.8101\n",
            "Epoch 86/200\n",
            "23/23 [==============================] - 0s 2ms/step - loss: 0.1727 - accuracy: 0.7598 - val_loss: 0.1651 - val_accuracy: 0.7598\n",
            "Epoch 87/200\n",
            "23/23 [==============================] - 0s 2ms/step - loss: 0.1721 - accuracy: 0.7584 - val_loss: 0.1364 - val_accuracy: 0.8156\n",
            "Epoch 88/200\n",
            "23/23 [==============================] - 0s 2ms/step - loss: 0.1723 - accuracy: 0.7654 - val_loss: 0.1360 - val_accuracy: 0.8324\n",
            "Epoch 89/200\n",
            "23/23 [==============================] - 0s 2ms/step - loss: 0.1704 - accuracy: 0.7640 - val_loss: 0.1450 - val_accuracy: 0.8324\n",
            "Epoch 90/200\n",
            "23/23 [==============================] - 0s 2ms/step - loss: 0.1718 - accuracy: 0.7542 - val_loss: 0.1353 - val_accuracy: 0.8045\n",
            "Epoch 91/200\n",
            "23/23 [==============================] - 0s 2ms/step - loss: 0.1721 - accuracy: 0.7697 - val_loss: 0.1387 - val_accuracy: 0.8268\n",
            "Epoch 92/200\n",
            "23/23 [==============================] - 0s 2ms/step - loss: 0.1694 - accuracy: 0.7654 - val_loss: 0.1334 - val_accuracy: 0.8156\n",
            "Epoch 93/200\n",
            "23/23 [==============================] - 0s 2ms/step - loss: 0.1692 - accuracy: 0.7598 - val_loss: 0.1398 - val_accuracy: 0.8212\n",
            "Epoch 94/200\n",
            "23/23 [==============================] - 0s 2ms/step - loss: 0.1739 - accuracy: 0.7640 - val_loss: 0.1431 - val_accuracy: 0.8101\n",
            "Epoch 95/200\n",
            "23/23 [==============================] - 0s 2ms/step - loss: 0.1675 - accuracy: 0.7584 - val_loss: 0.1340 - val_accuracy: 0.8156\n",
            "Epoch 96/200\n",
            "23/23 [==============================] - 0s 2ms/step - loss: 0.1667 - accuracy: 0.7683 - val_loss: 0.1525 - val_accuracy: 0.8101\n",
            "Epoch 97/200\n",
            "23/23 [==============================] - 0s 2ms/step - loss: 0.1697 - accuracy: 0.7697 - val_loss: 0.1357 - val_accuracy: 0.8156\n",
            "Epoch 98/200\n",
            "23/23 [==============================] - 0s 2ms/step - loss: 0.1691 - accuracy: 0.7654 - val_loss: 0.1352 - val_accuracy: 0.8156\n",
            "Epoch 99/200\n",
            "23/23 [==============================] - 0s 2ms/step - loss: 0.1741 - accuracy: 0.7570 - val_loss: 0.1386 - val_accuracy: 0.8268\n",
            "Epoch 100/200\n",
            "23/23 [==============================] - 0s 2ms/step - loss: 0.1684 - accuracy: 0.7669 - val_loss: 0.1462 - val_accuracy: 0.8324\n",
            "Epoch 101/200\n",
            "23/23 [==============================] - 0s 2ms/step - loss: 0.1744 - accuracy: 0.7626 - val_loss: 0.1509 - val_accuracy: 0.7877\n",
            "Epoch 102/200\n",
            "23/23 [==============================] - 0s 2ms/step - loss: 0.1740 - accuracy: 0.7584 - val_loss: 0.1402 - val_accuracy: 0.8101\n",
            "Epoch 103/200\n",
            "23/23 [==============================] - 0s 2ms/step - loss: 0.1700 - accuracy: 0.7654 - val_loss: 0.1441 - val_accuracy: 0.8156\n",
            "Epoch 104/200\n",
            "23/23 [==============================] - 0s 2ms/step - loss: 0.1713 - accuracy: 0.7683 - val_loss: 0.1601 - val_accuracy: 0.7933\n",
            "Epoch 105/200\n",
            "23/23 [==============================] - 0s 2ms/step - loss: 0.1678 - accuracy: 0.7767 - val_loss: 0.1406 - val_accuracy: 0.8101\n",
            "Epoch 106/200\n",
            "23/23 [==============================] - 0s 2ms/step - loss: 0.1674 - accuracy: 0.7725 - val_loss: 0.1356 - val_accuracy: 0.8156\n",
            "Epoch 107/200\n",
            "23/23 [==============================] - 0s 2ms/step - loss: 0.1731 - accuracy: 0.7556 - val_loss: 0.1786 - val_accuracy: 0.7318\n",
            "Epoch 108/200\n",
            "23/23 [==============================] - 0s 2ms/step - loss: 0.1684 - accuracy: 0.7640 - val_loss: 0.1360 - val_accuracy: 0.8212\n",
            "Epoch 109/200\n",
            "23/23 [==============================] - 0s 2ms/step - loss: 0.1644 - accuracy: 0.7683 - val_loss: 0.1364 - val_accuracy: 0.8324\n",
            "Epoch 110/200\n",
            "23/23 [==============================] - 0s 2ms/step - loss: 0.1669 - accuracy: 0.7584 - val_loss: 0.1322 - val_accuracy: 0.8156\n",
            "Epoch 111/200\n",
            "23/23 [==============================] - 0s 2ms/step - loss: 0.1683 - accuracy: 0.7654 - val_loss: 0.1302 - val_accuracy: 0.8045\n",
            "Epoch 112/200\n",
            "23/23 [==============================] - 0s 2ms/step - loss: 0.1674 - accuracy: 0.7612 - val_loss: 0.1336 - val_accuracy: 0.8212\n",
            "Epoch 113/200\n",
            "23/23 [==============================] - 0s 2ms/step - loss: 0.1716 - accuracy: 0.7654 - val_loss: 0.1369 - val_accuracy: 0.8156\n",
            "Epoch 114/200\n",
            "23/23 [==============================] - 0s 2ms/step - loss: 0.1680 - accuracy: 0.7711 - val_loss: 0.1382 - val_accuracy: 0.8101\n",
            "Epoch 115/200\n",
            "23/23 [==============================] - 0s 2ms/step - loss: 0.1683 - accuracy: 0.7697 - val_loss: 0.1373 - val_accuracy: 0.8212\n",
            "Epoch 116/200\n",
            "23/23 [==============================] - 0s 2ms/step - loss: 0.1696 - accuracy: 0.7570 - val_loss: 0.1632 - val_accuracy: 0.7709\n",
            "Epoch 117/200\n",
            "23/23 [==============================] - 0s 2ms/step - loss: 0.1688 - accuracy: 0.7598 - val_loss: 0.1367 - val_accuracy: 0.8101\n",
            "Epoch 118/200\n",
            "23/23 [==============================] - 0s 2ms/step - loss: 0.1715 - accuracy: 0.7640 - val_loss: 0.1430 - val_accuracy: 0.8212\n",
            "Epoch 119/200\n",
            "23/23 [==============================] - 0s 2ms/step - loss: 0.1658 - accuracy: 0.7767 - val_loss: 0.1347 - val_accuracy: 0.8212\n",
            "Epoch 120/200\n",
            "23/23 [==============================] - 0s 2ms/step - loss: 0.1616 - accuracy: 0.7753 - val_loss: 0.1392 - val_accuracy: 0.8436\n",
            "Epoch 121/200\n",
            "23/23 [==============================] - 0s 2ms/step - loss: 0.1660 - accuracy: 0.7697 - val_loss: 0.1493 - val_accuracy: 0.7933\n",
            "Epoch 122/200\n",
            "23/23 [==============================] - 0s 2ms/step - loss: 0.1644 - accuracy: 0.7669 - val_loss: 0.1337 - val_accuracy: 0.8212\n",
            "Epoch 123/200\n",
            "23/23 [==============================] - 0s 2ms/step - loss: 0.1692 - accuracy: 0.7542 - val_loss: 0.1337 - val_accuracy: 0.8324\n",
            "Epoch 124/200\n",
            "23/23 [==============================] - 0s 2ms/step - loss: 0.1653 - accuracy: 0.7669 - val_loss: 0.1281 - val_accuracy: 0.8268\n",
            "Epoch 125/200\n",
            "23/23 [==============================] - 0s 2ms/step - loss: 0.1698 - accuracy: 0.7669 - val_loss: 0.1304 - val_accuracy: 0.8324\n",
            "Epoch 126/200\n",
            "23/23 [==============================] - 0s 2ms/step - loss: 0.1663 - accuracy: 0.7725 - val_loss: 0.1385 - val_accuracy: 0.8156\n",
            "Epoch 127/200\n",
            "23/23 [==============================] - 0s 2ms/step - loss: 0.1672 - accuracy: 0.7711 - val_loss: 0.1396 - val_accuracy: 0.8268\n",
            "Epoch 128/200\n",
            "23/23 [==============================] - 0s 2ms/step - loss: 0.1655 - accuracy: 0.7753 - val_loss: 0.1379 - val_accuracy: 0.8212\n",
            "Epoch 129/200\n",
            "23/23 [==============================] - 0s 3ms/step - loss: 0.1652 - accuracy: 0.7669 - val_loss: 0.1445 - val_accuracy: 0.8212\n",
            "Epoch 130/200\n",
            "23/23 [==============================] - 0s 2ms/step - loss: 0.1598 - accuracy: 0.7795 - val_loss: 0.1289 - val_accuracy: 0.8156\n",
            "Epoch 131/200\n",
            "23/23 [==============================] - 0s 2ms/step - loss: 0.1627 - accuracy: 0.7697 - val_loss: 0.1354 - val_accuracy: 0.8324\n",
            "Epoch 132/200\n",
            "23/23 [==============================] - 0s 2ms/step - loss: 0.1657 - accuracy: 0.7711 - val_loss: 0.1306 - val_accuracy: 0.8268\n",
            "Epoch 133/200\n",
            "23/23 [==============================] - 0s 2ms/step - loss: 0.1621 - accuracy: 0.7725 - val_loss: 0.1342 - val_accuracy: 0.8268\n",
            "Epoch 134/200\n",
            "23/23 [==============================] - 0s 2ms/step - loss: 0.1642 - accuracy: 0.7711 - val_loss: 0.1278 - val_accuracy: 0.8268\n",
            "Epoch 135/200\n",
            "23/23 [==============================] - 0s 2ms/step - loss: 0.1608 - accuracy: 0.7781 - val_loss: 0.1276 - val_accuracy: 0.8380\n",
            "Epoch 136/200\n",
            "23/23 [==============================] - 0s 3ms/step - loss: 0.1669 - accuracy: 0.7683 - val_loss: 0.1672 - val_accuracy: 0.7989\n",
            "Epoch 137/200\n",
            "23/23 [==============================] - 0s 2ms/step - loss: 0.1608 - accuracy: 0.7654 - val_loss: 0.1568 - val_accuracy: 0.7765\n",
            "Epoch 138/200\n",
            "23/23 [==============================] - 0s 2ms/step - loss: 0.1638 - accuracy: 0.7697 - val_loss: 0.1283 - val_accuracy: 0.8380\n",
            "Epoch 139/200\n",
            "23/23 [==============================] - 0s 2ms/step - loss: 0.1640 - accuracy: 0.7795 - val_loss: 0.1413 - val_accuracy: 0.8156\n",
            "Epoch 140/200\n",
            "23/23 [==============================] - 0s 2ms/step - loss: 0.1642 - accuracy: 0.7711 - val_loss: 0.1378 - val_accuracy: 0.7989\n",
            "Epoch 141/200\n",
            "23/23 [==============================] - 0s 2ms/step - loss: 0.1616 - accuracy: 0.7739 - val_loss: 0.1244 - val_accuracy: 0.8268\n",
            "Epoch 142/200\n",
            "23/23 [==============================] - 0s 3ms/step - loss: 0.1689 - accuracy: 0.7683 - val_loss: 0.1556 - val_accuracy: 0.7933\n",
            "Epoch 143/200\n",
            "23/23 [==============================] - 0s 2ms/step - loss: 0.1617 - accuracy: 0.7697 - val_loss: 0.1372 - val_accuracy: 0.8268\n",
            "Epoch 144/200\n",
            "23/23 [==============================] - 0s 2ms/step - loss: 0.1629 - accuracy: 0.7739 - val_loss: 0.1352 - val_accuracy: 0.8268\n",
            "Epoch 145/200\n",
            "23/23 [==============================] - 0s 2ms/step - loss: 0.1669 - accuracy: 0.7669 - val_loss: 0.1356 - val_accuracy: 0.8268\n",
            "Epoch 146/200\n",
            "23/23 [==============================] - 0s 2ms/step - loss: 0.1634 - accuracy: 0.7654 - val_loss: 0.1274 - val_accuracy: 0.8380\n",
            "Epoch 147/200\n",
            "23/23 [==============================] - 0s 2ms/step - loss: 0.1639 - accuracy: 0.7781 - val_loss: 0.1364 - val_accuracy: 0.8045\n",
            "Epoch 148/200\n",
            "23/23 [==============================] - 0s 2ms/step - loss: 0.1644 - accuracy: 0.7683 - val_loss: 0.1304 - val_accuracy: 0.8380\n",
            "Epoch 149/200\n",
            "23/23 [==============================] - 0s 2ms/step - loss: 0.1662 - accuracy: 0.7654 - val_loss: 0.1289 - val_accuracy: 0.8101\n",
            "Epoch 150/200\n",
            "23/23 [==============================] - 0s 2ms/step - loss: 0.1657 - accuracy: 0.7739 - val_loss: 0.1367 - val_accuracy: 0.8101\n",
            "Epoch 151/200\n",
            "23/23 [==============================] - 0s 2ms/step - loss: 0.1667 - accuracy: 0.7640 - val_loss: 0.1348 - val_accuracy: 0.8212\n",
            "Epoch 152/200\n",
            "23/23 [==============================] - 0s 2ms/step - loss: 0.1612 - accuracy: 0.7753 - val_loss: 0.1850 - val_accuracy: 0.7151\n",
            "Epoch 153/200\n",
            "23/23 [==============================] - 0s 3ms/step - loss: 0.1621 - accuracy: 0.7711 - val_loss: 0.1484 - val_accuracy: 0.7765\n",
            "Epoch 154/200\n",
            "23/23 [==============================] - 0s 2ms/step - loss: 0.1642 - accuracy: 0.7725 - val_loss: 0.1333 - val_accuracy: 0.8268\n",
            "Epoch 155/200\n",
            "23/23 [==============================] - 0s 2ms/step - loss: 0.1612 - accuracy: 0.7739 - val_loss: 0.1326 - val_accuracy: 0.8101\n",
            "Epoch 156/200\n",
            "23/23 [==============================] - 0s 2ms/step - loss: 0.1613 - accuracy: 0.7781 - val_loss: 0.1342 - val_accuracy: 0.8268\n",
            "Epoch 157/200\n",
            "23/23 [==============================] - 0s 2ms/step - loss: 0.1655 - accuracy: 0.7654 - val_loss: 0.1668 - val_accuracy: 0.7598\n",
            "Epoch 158/200\n",
            "23/23 [==============================] - 0s 2ms/step - loss: 0.1662 - accuracy: 0.7640 - val_loss: 0.1413 - val_accuracy: 0.7933\n",
            "Epoch 159/200\n",
            "23/23 [==============================] - 0s 2ms/step - loss: 0.1620 - accuracy: 0.7781 - val_loss: 0.1346 - val_accuracy: 0.8268\n",
            "Epoch 160/200\n",
            "23/23 [==============================] - 0s 2ms/step - loss: 0.1660 - accuracy: 0.7528 - val_loss: 0.2010 - val_accuracy: 0.6872\n",
            "Epoch 161/200\n",
            "23/23 [==============================] - 0s 2ms/step - loss: 0.1699 - accuracy: 0.7500 - val_loss: 0.1348 - val_accuracy: 0.8045\n",
            "Epoch 162/200\n",
            "23/23 [==============================] - 0s 2ms/step - loss: 0.1663 - accuracy: 0.7626 - val_loss: 0.1296 - val_accuracy: 0.8268\n",
            "Epoch 163/200\n",
            "23/23 [==============================] - 0s 2ms/step - loss: 0.1622 - accuracy: 0.7711 - val_loss: 0.1339 - val_accuracy: 0.8380\n",
            "Epoch 164/200\n",
            "23/23 [==============================] - 0s 2ms/step - loss: 0.1642 - accuracy: 0.7781 - val_loss: 0.1232 - val_accuracy: 0.8268\n",
            "Epoch 165/200\n",
            "23/23 [==============================] - 0s 2ms/step - loss: 0.1596 - accuracy: 0.7739 - val_loss: 0.1256 - val_accuracy: 0.8380\n",
            "Epoch 166/200\n",
            "23/23 [==============================] - 0s 2ms/step - loss: 0.1657 - accuracy: 0.7697 - val_loss: 0.1394 - val_accuracy: 0.8045\n",
            "Epoch 167/200\n",
            "23/23 [==============================] - 0s 2ms/step - loss: 0.1623 - accuracy: 0.7809 - val_loss: 0.1250 - val_accuracy: 0.8324\n",
            "Epoch 168/200\n",
            "23/23 [==============================] - 0s 2ms/step - loss: 0.1650 - accuracy: 0.7767 - val_loss: 0.1278 - val_accuracy: 0.8380\n",
            "Epoch 169/200\n",
            "23/23 [==============================] - 0s 2ms/step - loss: 0.1668 - accuracy: 0.7640 - val_loss: 0.1273 - val_accuracy: 0.8436\n",
            "Epoch 170/200\n",
            "23/23 [==============================] - 0s 2ms/step - loss: 0.1621 - accuracy: 0.7626 - val_loss: 0.1308 - val_accuracy: 0.8380\n",
            "Epoch 171/200\n",
            "23/23 [==============================] - 0s 2ms/step - loss: 0.1677 - accuracy: 0.7556 - val_loss: 0.1261 - val_accuracy: 0.8380\n",
            "Epoch 172/200\n",
            "23/23 [==============================] - 0s 2ms/step - loss: 0.1582 - accuracy: 0.7753 - val_loss: 0.1479 - val_accuracy: 0.7821\n",
            "Epoch 173/200\n",
            "23/23 [==============================] - 0s 2ms/step - loss: 0.1635 - accuracy: 0.7781 - val_loss: 0.1366 - val_accuracy: 0.8268\n",
            "Epoch 174/200\n",
            "23/23 [==============================] - 0s 2ms/step - loss: 0.1639 - accuracy: 0.7640 - val_loss: 0.1344 - val_accuracy: 0.8268\n",
            "Epoch 175/200\n",
            "23/23 [==============================] - 0s 2ms/step - loss: 0.1576 - accuracy: 0.7823 - val_loss: 0.1404 - val_accuracy: 0.7989\n",
            "Epoch 176/200\n",
            "23/23 [==============================] - 0s 2ms/step - loss: 0.1602 - accuracy: 0.7809 - val_loss: 0.1263 - val_accuracy: 0.8492\n",
            "Epoch 177/200\n",
            "23/23 [==============================] - 0s 2ms/step - loss: 0.1579 - accuracy: 0.7739 - val_loss: 0.1552 - val_accuracy: 0.8101\n",
            "Epoch 178/200\n",
            "23/23 [==============================] - 0s 2ms/step - loss: 0.1618 - accuracy: 0.7809 - val_loss: 0.1295 - val_accuracy: 0.8380\n",
            "Epoch 179/200\n",
            "23/23 [==============================] - 0s 2ms/step - loss: 0.1628 - accuracy: 0.7683 - val_loss: 0.1493 - val_accuracy: 0.8156\n",
            "Epoch 180/200\n",
            "23/23 [==============================] - 0s 2ms/step - loss: 0.1609 - accuracy: 0.7654 - val_loss: 0.1540 - val_accuracy: 0.7821\n",
            "Epoch 181/200\n",
            "23/23 [==============================] - 0s 2ms/step - loss: 0.1628 - accuracy: 0.7753 - val_loss: 0.1394 - val_accuracy: 0.8436\n",
            "Epoch 182/200\n",
            "23/23 [==============================] - 0s 2ms/step - loss: 0.1657 - accuracy: 0.7584 - val_loss: 0.1465 - val_accuracy: 0.8101\n",
            "Epoch 183/200\n",
            "23/23 [==============================] - 0s 2ms/step - loss: 0.1570 - accuracy: 0.7781 - val_loss: 0.1523 - val_accuracy: 0.7765\n",
            "Epoch 184/200\n",
            "23/23 [==============================] - 0s 2ms/step - loss: 0.1579 - accuracy: 0.7823 - val_loss: 0.1295 - val_accuracy: 0.8436\n",
            "Epoch 185/200\n",
            "23/23 [==============================] - 0s 2ms/step - loss: 0.1648 - accuracy: 0.7697 - val_loss: 0.1426 - val_accuracy: 0.8101\n",
            "Epoch 186/200\n",
            "23/23 [==============================] - 0s 2ms/step - loss: 0.1610 - accuracy: 0.7795 - val_loss: 0.1407 - val_accuracy: 0.8324\n",
            "Epoch 187/200\n",
            "23/23 [==============================] - 0s 2ms/step - loss: 0.1613 - accuracy: 0.7753 - val_loss: 0.1300 - val_accuracy: 0.8212\n",
            "Epoch 188/200\n",
            "23/23 [==============================] - 0s 2ms/step - loss: 0.1555 - accuracy: 0.7767 - val_loss: 0.1302 - val_accuracy: 0.8324\n",
            "Epoch 189/200\n",
            "23/23 [==============================] - 0s 2ms/step - loss: 0.1640 - accuracy: 0.7683 - val_loss: 0.1361 - val_accuracy: 0.8101\n",
            "Epoch 190/200\n",
            "23/23 [==============================] - 0s 2ms/step - loss: 0.1566 - accuracy: 0.7795 - val_loss: 0.1387 - val_accuracy: 0.8045\n",
            "Epoch 191/200\n",
            "23/23 [==============================] - 0s 2ms/step - loss: 0.1586 - accuracy: 0.7795 - val_loss: 0.1343 - val_accuracy: 0.8380\n",
            "Epoch 192/200\n",
            "23/23 [==============================] - 0s 2ms/step - loss: 0.1626 - accuracy: 0.7725 - val_loss: 0.1554 - val_accuracy: 0.7709\n",
            "Epoch 193/200\n",
            "23/23 [==============================] - 0s 2ms/step - loss: 0.1613 - accuracy: 0.7669 - val_loss: 0.1505 - val_accuracy: 0.7877\n",
            "Epoch 194/200\n",
            "23/23 [==============================] - 0s 2ms/step - loss: 0.1651 - accuracy: 0.7767 - val_loss: 0.1271 - val_accuracy: 0.8380\n",
            "Epoch 195/200\n",
            "23/23 [==============================] - 0s 2ms/step - loss: 0.1607 - accuracy: 0.7697 - val_loss: 0.1319 - val_accuracy: 0.8268\n",
            "Epoch 196/200\n",
            "23/23 [==============================] - 0s 2ms/step - loss: 0.1619 - accuracy: 0.7809 - val_loss: 0.1335 - val_accuracy: 0.8268\n",
            "Epoch 197/200\n",
            "23/23 [==============================] - 0s 2ms/step - loss: 0.1601 - accuracy: 0.7767 - val_loss: 0.1336 - val_accuracy: 0.8268\n",
            "Epoch 198/200\n",
            "23/23 [==============================] - 0s 2ms/step - loss: 0.1604 - accuracy: 0.7725 - val_loss: 0.1351 - val_accuracy: 0.8156\n",
            "Epoch 199/200\n",
            "23/23 [==============================] - 0s 2ms/step - loss: 0.1592 - accuracy: 0.7739 - val_loss: 0.1616 - val_accuracy: 0.7542\n",
            "Epoch 200/200\n",
            "23/23 [==============================] - 0s 2ms/step - loss: 0.1602 - accuracy: 0.7851 - val_loss: 0.1406 - val_accuracy: 0.8268\n"
          ],
          "name": "stdout"
        }
      ]
    },
    {
      "cell_type": "code",
      "metadata": {
        "id": "gLqXuMvvvC8h",
        "colab_type": "code",
        "colab": {
          "base_uri": "https://localhost:8080/",
          "height": 279
        },
        "outputId": "2a867591-6026-4238-a3ac-e5bba378b261"
      },
      "source": [
        "plot_the_loss_curve(epochs,rmse)"
      ],
      "execution_count": 129,
      "outputs": [
        {
          "output_type": "display_data",
          "data": {
            "image/png": "[encoded data removed]",
            "text/plain": [
              "<Figure size 432x288 with 1 Axes>"
            ]
          },
          "metadata": {
            "tags": [],
            "needs_background": "light"
          }
        }
      ]
    },
    {
      "cell_type": "code",
      "metadata": {
        "id": "vZN5NbLYv9Ty",
        "colab_type": "code",
        "colab": {
          "base_uri": "https://localhost:8080/",
          "height": 357
        },
        "outputId": "e8192ac2-4d55-4530-bd01-a38689b0085f"
      },
      "source": [
        "test_data[\"Male\"] = test_data[\"Sex\"]\n",
        "test_data[\"Female\"] = test_data[\"Sex\"]\n",
        "\n",
        "for i in range(0,test_data.shape[0]):\n",
        "  if(test_data[\"Sex\"][i] == \"male\"):\n",
        "    test_data[\"Male\"][i] = 1 \n",
        "    test_data[\"Female\"][i] = 0 \n",
        "  else:\n",
        "    test_data[\"Male\"][i] = 0 \n",
        "    test_data[\"Female\"][i] = 1 \n",
        "test_data = test_data.drop(columns=['Sex'])\n",
        "xtest = test_data.to_numpy()\n",
        "xtest = xtest.astype('float64')\n",
        "xtest1 = xtest\n",
        "xtest[np.isnan(xtest1).any(axis=1)] = 0\n",
        "assert not np.any(np.isnan(xtest))"
      ],
      "execution_count": 130,
      "outputs": [
        {
          "output_type": "stream",
          "text": [
            "/usr/local/lib/python3.6/dist-packages/ipykernel_launcher.py:6: SettingWithCopyWarning: \n",
            "A value is trying to be set on a copy of a slice from a DataFrame\n",
            "\n",
            "See the caveats in the documentation: https://pandas.pydata.org/pandas-docs/stable/user_guide/indexing.html#returning-a-view-versus-a-copy\n",
            "  \n",
            "/usr/local/lib/python3.6/dist-packages/ipykernel_launcher.py:7: SettingWithCopyWarning: \n",
            "A value is trying to be set on a copy of a slice from a DataFrame\n",
            "\n",
            "See the caveats in the documentation: https://pandas.pydata.org/pandas-docs/stable/user_guide/indexing.html#returning-a-view-versus-a-copy\n",
            "  import sys\n",
            "/usr/local/lib/python3.6/dist-packages/ipykernel_launcher.py:9: SettingWithCopyWarning: \n",
            "A value is trying to be set on a copy of a slice from a DataFrame\n",
            "\n",
            "See the caveats in the documentation: https://pandas.pydata.org/pandas-docs/stable/user_guide/indexing.html#returning-a-view-versus-a-copy\n",
            "  if __name__ == '__main__':\n",
            "/usr/local/lib/python3.6/dist-packages/ipykernel_launcher.py:10: SettingWithCopyWarning: \n",
            "A value is trying to be set on a copy of a slice from a DataFrame\n",
            "\n",
            "See the caveats in the documentation: https://pandas.pydata.org/pandas-docs/stable/user_guide/indexing.html#returning-a-view-versus-a-copy\n",
            "  # Remove the CWD from sys.path while we load stuff.\n"
          ],
          "name": "stderr"
        }
      ]
    },
    {
      "cell_type": "code",
      "metadata": {
        "id": "GcM9jLSG15s9",
        "colab_type": "code",
        "colab": {}
      },
      "source": [
        "predict = my_model.predict(xtest)"
      ],
      "execution_count": 131,
      "outputs": []
    },
    {
      "cell_type": "code",
      "metadata": {
        "id": "bhQ_d4PNwpI3",
        "colab_type": "code",
        "colab": {}
      },
      "source": [
        "for i in range(0,predict.shape[0]):\n",
        "  if predict[i] > 0.6:\n",
        "    predict[i] = 1\n",
        "  else:\n",
        "    predict[i] = 0\n"
      ],
      "execution_count": 133,
      "outputs": []
    },
    {
      "cell_type": "code",
      "metadata": {
        "id": "dsSOffv7zHYz",
        "colab_type": "code",
        "colab": {}
      },
      "source": [
        "predict = predict.astype('int32')"
      ],
      "execution_count": 134,
      "outputs": []
    },
    {
      "cell_type": "code",
      "metadata": {
        "id": "FEhVRwO50Hxe",
        "colab_type": "code",
        "colab": {}
      },
      "source": [
        "predict = pd.DataFrame(predict,columns=[\"Survived\"])"
      ],
      "execution_count": 135,
      "outputs": []
    },
    {
      "cell_type": "code",
      "metadata": {
        "id": "47quBX6M0JjD",
        "colab_type": "code",
        "colab": {}
      },
      "source": [
        "Test_data  = pd.read_csv(\"/content/{/content}/competitions/titanic/test.csv\")"
      ],
      "execution_count": 136,
      "outputs": []
    },
    {
      "cell_type": "code",
      "metadata": {
        "id": "b93iOWjF0pK9",
        "colab_type": "code",
        "colab": {}
      },
      "source": [
        "final = pd.DataFrame(Test_data[\"PassengerId\"],columns=[\"PassengerId\"])"
      ],
      "execution_count": 137,
      "outputs": []
    },
    {
      "cell_type": "code",
      "metadata": {
        "id": "aut5os4K0tNr",
        "colab_type": "code",
        "colab": {}
      },
      "source": [
        "final[\"Survived\"] = predict[\"Survived\"]"
      ],
      "execution_count": 138,
      "outputs": []
    },
    {
      "cell_type": "code",
      "metadata": {
        "id": "aVCFI68r09d1",
        "colab_type": "code",
        "colab": {
          "base_uri": "https://localhost:8080/",
          "height": 255
        },
        "outputId": "7c0c7e56-af51-48a4-9174-415f64290439"
      },
      "source": [
        "final.head"
      ],
      "execution_count": 139,
      "outputs": [
        {
          "output_type": "execute_result",
          "data": {
            "text/plain": [
              "<bound method NDFrame.head of      PassengerId  Survived\n",
              "0            892         0\n",
              "1            893         1\n",
              "2            894         0\n",
              "3            895         0\n",
              "4            896         0\n",
              "..           ...       ...\n",
              "413         1305         0\n",
              "414         1306         1\n",
              "415         1307         0\n",
              "416         1308         0\n",
              "417         1309         0\n",
              "\n",
              "[418 rows x 2 columns]>"
            ]
          },
          "metadata": {
            "tags": []
          },
          "execution_count": 139
        }
      ]
    },
    {
      "cell_type": "code",
      "metadata": {
        "id": "-fYc-0Ej0_le",
        "colab_type": "code",
        "colab": {}
      },
      "source": [
        "final.to_csv (r'submission.csv', index = False, header=True)"
      ],
      "execution_count": 140,
      "outputs": []
    }
  ]
}